{
  "nbformat": 4,
  "nbformat_minor": 0,
  "metadata": {
    "colab": {
      "provenance": [],
      "toc_visible": true,
      "authorship_tag": "ABX9TyNZs1Dl30rk5hFNssYdJMEq",
      "include_colab_link": true
    },
    "kernelspec": {
      "name": "python3",
      "display_name": "Python 3"
    },
    "language_info": {
      "name": "python"
    }
  },
  "cells": [
    {
      "cell_type": "markdown",
      "metadata": {
        "id": "view-in-github",
        "colab_type": "text"
      },
      "source": [
        "<a href=\"https://colab.research.google.com/github/ruben-hj/RNA_Reconocimiento_digitos/blob/main/RedDensaKeras.ipynb\" target=\"_parent\"><img src=\"https://colab.research.google.com/assets/colab-badge.svg\" alt=\"Open In Colab\"/></a>"
      ]
    },
    {
      "cell_type": "code",
      "source": [
        "import tensorflow as tf\n",
        "from tensorflow import keras\n",
        "from tensorflow.keras.datasets import mnist\n",
        "from tensorflow.keras.models import Sequential\n",
        "from tensorflow.keras.layers import Dense, Dropout, Activation\n",
        "from tensorflow.keras.optimizers import  Adam\n",
        "import numpy as np"
      ],
      "metadata": {
        "id": "cgcyT89P58jP"
      },
      "execution_count": 68,
      "outputs": []
    },
    {
      "cell_type": "markdown",
      "source": [
        "Carga del conjunto de datos MNIST:"
      ],
      "metadata": {
        "id": "iBPxex3aKo9X"
      }
    },
    {
      "cell_type": "code",
      "source": [
        "dataset=mnist.load_data()"
      ],
      "metadata": {
        "id": "-2FbYH7G6ei9"
      },
      "execution_count": 69,
      "outputs": []
    },
    {
      "cell_type": "code",
      "source": [
        "dat=np.array(dataset)\n",
        "(x_train, y_train), (x_test, y_test) = dataset"
      ],
      "metadata": {
        "id": "xCz7pWmi6k3i"
      },
      "execution_count": null,
      "outputs": []
    },
    {
      "cell_type": "code",
      "source": [
        "learning_rate = 0.001\n",
        "epochs = 10\n",
        "batch_size = 120"
      ],
      "metadata": {
        "id": "B8_isuAB6rIc"
      },
      "execution_count": 72,
      "outputs": []
    },
    {
      "cell_type": "code",
      "source": [
        "x_trainv = x_train.reshape(60000, 784)\n",
        "x_testv = x_test.reshape(10000, 784)\n",
        "x_trainv = x_trainv.astype('float32')\n",
        "x_testv = x_testv.astype('float32')\n",
        "\n",
        "x_trainv /= 255  # x_trainv = x_trainv/255\n",
        "x_testv /= 255"
      ],
      "metadata": {
        "id": "sjZr2-AV6us0"
      },
      "execution_count": 73,
      "outputs": []
    },
    {
      "cell_type": "code",
      "source": [
        "num_classes=10\n",
        "y_trainc = keras.utils.to_categorical(y_train, num_classes)\n",
        "y_testc = keras.utils.to_categorical(y_test, num_classes)"
      ],
      "metadata": {
        "id": "YyFa-D16605l"
      },
      "execution_count": 74,
      "outputs": []
    },
    {
      "cell_type": "code",
      "source": [
        "model = Sequential()\n",
        "model.add(Dense(128, activation='sigmoid', input_shape=(784,)))\n",
        "model.add(Dense(num_classes, activation='sigmoid'))\n",
        "#model.summary()"
      ],
      "metadata": {
        "id": "C2zIVdhe654b"
      },
      "execution_count": 81,
      "outputs": []
    },
    {
      "cell_type": "code",
      "source": [
        "model.compile(loss='categorical_crossentropy',\n",
        "              optimizer=Adam(learning_rate=learning_rate),\n",
        "              metrics=['accuracy'])"
      ],
      "metadata": {
        "id": "cDhei8lS7GaM"
      },
      "execution_count": 82,
      "outputs": []
    },
    {
      "cell_type": "code",
      "source": [
        "history = model.fit(x_trainv, y_trainc,\n",
        "                    batch_size=batch_size,\n",
        "                    epochs=epochs,\n",
        "                    verbose=1,\n",
        "                    validation_data=(x_testv, y_testc)\n",
        "                   )\n",
        "\n",
        "test_loss, test_accuracy = model.evaluate(x_testv, y_testc)\n",
        "print(f\"Pérdida en el conjunto de prueba: {test_loss}\")\n",
        "print(f\"Precisión en el conjunto de prueba: {test_accuracy}\")\n"
      ],
      "metadata": {
        "id": "vV6Zw9RR7OXm"
      },
      "execution_count": null,
      "outputs": []
    },
    {
      "cell_type": "code",
      "source": [
        "score = model.evaluate(x_testv, y_testc, verbose=1) #evaluar la eficiencia del modelo\n",
        "print(score)\n",
        "a=model.predict(x_testv) #predicción de la red entrenada\n",
        "print(a.shape)\n",
        "print(a[1])\n",
        "print(\"resultado correcto:\")\n",
        "print(y_testc[1])"
      ],
      "metadata": {
        "id": "9_Tzz_qn7lD5"
      },
      "execution_count": null,
      "outputs": []
    }
  ]
}